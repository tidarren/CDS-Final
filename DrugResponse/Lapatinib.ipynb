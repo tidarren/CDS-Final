{
 "cells": [
  {
   "cell_type": "markdown",
   "metadata": {},
   "source": [
    "# Project: DrugResponse_Lapatinib (Team 1)\n",
    "R08946014 陳俊達"
   ]
  },
  {
   "cell_type": "code",
   "execution_count": 1,
   "metadata": {},
   "outputs": [],
   "source": [
    "import pandas as pd\n",
    "from sklearn.utils import shuffle\n",
    "from sklearn.preprocessing import StandardScaler\n",
    "from sklearn.model_selection import GridSearchCV\n",
    "from sklearn.svm import LinearSVC\n",
    "from sklearn.metrics import recall_score, precision_score, f1_score\n",
    "import numpy as np\n",
    "from sklearn.feature_selection import SelectFromModel\n",
    "from sklearn.ensemble import ExtraTreesClassifier\n",
    "import smote_variants as sv"
   ]
  },
  {
   "cell_type": "markdown",
   "metadata": {},
   "source": [
    "## 1. Data Overview"
   ]
  },
  {
   "cell_type": "code",
   "execution_count": 2,
   "metadata": {},
   "outputs": [
    {
     "name": "stdout",
     "output_type": "stream",
     "text": [
      "CCLE_GED_Lapatinib.csv\tGDSC_GED_Lapatinib.csv\r\n"
     ]
    }
   ],
   "source": [
    "!ls Lapatinib"
   ]
  },
  {
   "cell_type": "code",
   "execution_count": 3,
   "metadata": {},
   "outputs": [],
   "source": [
    "df_GDSC = pd.read_csv('Lapatinib/GDSC_GED_Lapatinib.csv')\n",
    "df_CCLE = pd.read_csv('Lapatinib/CCLE_GED_Lapatinib.csv')"
   ]
  },
  {
   "cell_type": "markdown",
   "metadata": {},
   "source": [
    "### 1.1 GDSC (Genomics of Drug Sensitivity in Cancer)"
   ]
  },
  {
   "cell_type": "code",
   "execution_count": 4,
   "metadata": {},
   "outputs": [
    {
     "name": "stdout",
     "output_type": "stream",
     "text": [
      "<class 'pandas.core.frame.DataFrame'>\n",
      "RangeIndex: 396 entries, 0 to 395\n",
      "Columns: 17489 entries, CELL_LINE_NAME to TBC1D3P5\n",
      "dtypes: float64(17488), object(1)\n",
      "memory usage: 52.8+ MB\n"
     ]
    }
   ],
   "source": [
    "df_GDSC.info()"
   ]
  },
  {
   "cell_type": "code",
   "execution_count": 5,
   "metadata": {},
   "outputs": [
    {
     "data": {
      "text/html": [
       "<div>\n",
       "<style scoped>\n",
       "    .dataframe tbody tr th:only-of-type {\n",
       "        vertical-align: middle;\n",
       "    }\n",
       "\n",
       "    .dataframe tbody tr th {\n",
       "        vertical-align: top;\n",
       "    }\n",
       "\n",
       "    .dataframe thead th {\n",
       "        text-align: right;\n",
       "    }\n",
       "</style>\n",
       "<table border=\"1\" class=\"dataframe\">\n",
       "  <thead>\n",
       "    <tr style=\"text-align: right;\">\n",
       "      <th></th>\n",
       "      <th>CELL_LINE_NAME</th>\n",
       "      <th>IC50</th>\n",
       "      <th>TSPAN6</th>\n",
       "      <th>TNMD</th>\n",
       "      <th>DPM1</th>\n",
       "      <th>SCYL3</th>\n",
       "      <th>C1orf112</th>\n",
       "      <th>FGR</th>\n",
       "      <th>CFH</th>\n",
       "      <th>FUCA2</th>\n",
       "      <th>...</th>\n",
       "      <th>ZNF234</th>\n",
       "      <th>J3KSW9</th>\n",
       "      <th>MYH4</th>\n",
       "      <th>LINC00526</th>\n",
       "      <th>PPY2</th>\n",
       "      <th>KRT18P55</th>\n",
       "      <th>MIR5195</th>\n",
       "      <th>POLRMTP1</th>\n",
       "      <th>UBL5P2</th>\n",
       "      <th>TBC1D3P5</th>\n",
       "    </tr>\n",
       "  </thead>\n",
       "  <tbody>\n",
       "    <tr>\n",
       "      <td>0</td>\n",
       "      <td>NCI-H1648</td>\n",
       "      <td>0.031113</td>\n",
       "      <td>2.217581</td>\n",
       "      <td>-0.735253</td>\n",
       "      <td>2.669516</td>\n",
       "      <td>-0.058065</td>\n",
       "      <td>-0.465657</td>\n",
       "      <td>-0.551981</td>\n",
       "      <td>0.734550</td>\n",
       "      <td>1.783264</td>\n",
       "      <td>...</td>\n",
       "      <td>-0.045624</td>\n",
       "      <td>-0.747319</td>\n",
       "      <td>-0.902292</td>\n",
       "      <td>0.542939</td>\n",
       "      <td>-0.610554</td>\n",
       "      <td>-0.312383</td>\n",
       "      <td>-0.657732</td>\n",
       "      <td>-0.471618</td>\n",
       "      <td>2.229009</td>\n",
       "      <td>-0.587149</td>\n",
       "    </tr>\n",
       "    <tr>\n",
       "      <td>1</td>\n",
       "      <td>HCC2218</td>\n",
       "      <td>0.066119</td>\n",
       "      <td>1.130860</td>\n",
       "      <td>-1.152389</td>\n",
       "      <td>2.227567</td>\n",
       "      <td>-0.103168</td>\n",
       "      <td>-0.801887</td>\n",
       "      <td>-0.953301</td>\n",
       "      <td>-1.105763</td>\n",
       "      <td>0.918863</td>\n",
       "      <td>...</td>\n",
       "      <td>-0.307984</td>\n",
       "      <td>-0.866525</td>\n",
       "      <td>-1.342557</td>\n",
       "      <td>-0.592605</td>\n",
       "      <td>-0.911555</td>\n",
       "      <td>-1.023212</td>\n",
       "      <td>-0.909322</td>\n",
       "      <td>-1.093605</td>\n",
       "      <td>1.917536</td>\n",
       "      <td>-0.834582</td>\n",
       "    </tr>\n",
       "    <tr>\n",
       "      <td>2</td>\n",
       "      <td>BB30-HNC</td>\n",
       "      <td>0.203560</td>\n",
       "      <td>1.028961</td>\n",
       "      <td>-0.494848</td>\n",
       "      <td>3.043575</td>\n",
       "      <td>0.071932</td>\n",
       "      <td>-0.321628</td>\n",
       "      <td>-0.358059</td>\n",
       "      <td>-0.044099</td>\n",
       "      <td>1.130233</td>\n",
       "      <td>...</td>\n",
       "      <td>0.330618</td>\n",
       "      <td>-0.477184</td>\n",
       "      <td>-0.540995</td>\n",
       "      <td>0.719914</td>\n",
       "      <td>-0.273641</td>\n",
       "      <td>-0.279611</td>\n",
       "      <td>-0.038461</td>\n",
       "      <td>-0.347925</td>\n",
       "      <td>2.278153</td>\n",
       "      <td>-0.192392</td>\n",
       "    </tr>\n",
       "    <tr>\n",
       "      <td>3</td>\n",
       "      <td>DSH1</td>\n",
       "      <td>0.093657</td>\n",
       "      <td>2.123831</td>\n",
       "      <td>-0.796891</td>\n",
       "      <td>2.557647</td>\n",
       "      <td>0.000816</td>\n",
       "      <td>-0.320608</td>\n",
       "      <td>-0.494476</td>\n",
       "      <td>0.290516</td>\n",
       "      <td>1.444494</td>\n",
       "      <td>...</td>\n",
       "      <td>-0.036115</td>\n",
       "      <td>-0.643546</td>\n",
       "      <td>-0.885688</td>\n",
       "      <td>-0.306266</td>\n",
       "      <td>-0.508864</td>\n",
       "      <td>-0.746488</td>\n",
       "      <td>-0.979115</td>\n",
       "      <td>-0.655797</td>\n",
       "      <td>2.355807</td>\n",
       "      <td>-0.648386</td>\n",
       "    </tr>\n",
       "    <tr>\n",
       "      <td>4</td>\n",
       "      <td>LB2241-RCC</td>\n",
       "      <td>0.753576</td>\n",
       "      <td>1.540483</td>\n",
       "      <td>-1.070618</td>\n",
       "      <td>2.381170</td>\n",
       "      <td>-0.531222</td>\n",
       "      <td>-0.847162</td>\n",
       "      <td>-0.863710</td>\n",
       "      <td>-0.637168</td>\n",
       "      <td>1.617217</td>\n",
       "      <td>...</td>\n",
       "      <td>-0.138542</td>\n",
       "      <td>-1.002873</td>\n",
       "      <td>-1.140608</td>\n",
       "      <td>-0.293279</td>\n",
       "      <td>-0.850630</td>\n",
       "      <td>-0.696104</td>\n",
       "      <td>-0.827010</td>\n",
       "      <td>-0.785605</td>\n",
       "      <td>1.978891</td>\n",
       "      <td>-0.824081</td>\n",
       "    </tr>\n",
       "  </tbody>\n",
       "</table>\n",
       "<p>5 rows × 17489 columns</p>\n",
       "</div>"
      ],
      "text/plain": [
       "  CELL_LINE_NAME      IC50    TSPAN6      TNMD      DPM1     SCYL3  C1orf112  \\\n",
       "0      NCI-H1648  0.031113  2.217581 -0.735253  2.669516 -0.058065 -0.465657   \n",
       "1        HCC2218  0.066119  1.130860 -1.152389  2.227567 -0.103168 -0.801887   \n",
       "2       BB30-HNC  0.203560  1.028961 -0.494848  3.043575  0.071932 -0.321628   \n",
       "3           DSH1  0.093657  2.123831 -0.796891  2.557647  0.000816 -0.320608   \n",
       "4     LB2241-RCC  0.753576  1.540483 -1.070618  2.381170 -0.531222 -0.847162   \n",
       "\n",
       "        FGR       CFH     FUCA2  ...    ZNF234    J3KSW9      MYH4  LINC00526  \\\n",
       "0 -0.551981  0.734550  1.783264  ... -0.045624 -0.747319 -0.902292   0.542939   \n",
       "1 -0.953301 -1.105763  0.918863  ... -0.307984 -0.866525 -1.342557  -0.592605   \n",
       "2 -0.358059 -0.044099  1.130233  ...  0.330618 -0.477184 -0.540995   0.719914   \n",
       "3 -0.494476  0.290516  1.444494  ... -0.036115 -0.643546 -0.885688  -0.306266   \n",
       "4 -0.863710 -0.637168  1.617217  ... -0.138542 -1.002873 -1.140608  -0.293279   \n",
       "\n",
       "       PPY2  KRT18P55   MIR5195  POLRMTP1    UBL5P2  TBC1D3P5  \n",
       "0 -0.610554 -0.312383 -0.657732 -0.471618  2.229009 -0.587149  \n",
       "1 -0.911555 -1.023212 -0.909322 -1.093605  1.917536 -0.834582  \n",
       "2 -0.273641 -0.279611 -0.038461 -0.347925  2.278153 -0.192392  \n",
       "3 -0.508864 -0.746488 -0.979115 -0.655797  2.355807 -0.648386  \n",
       "4 -0.850630 -0.696104 -0.827010 -0.785605  1.978891 -0.824081  \n",
       "\n",
       "[5 rows x 17489 columns]"
      ]
     },
     "execution_count": 5,
     "metadata": {},
     "output_type": "execute_result"
    }
   ],
   "source": [
    "df_GDSC.head()"
   ]
  },
  {
   "cell_type": "markdown",
   "metadata": {},
   "source": [
    "### 1.2 CCLE (Cancer Cell Line Encyclopedia)"
   ]
  },
  {
   "cell_type": "code",
   "execution_count": 6,
   "metadata": {},
   "outputs": [
    {
     "name": "stdout",
     "output_type": "stream",
     "text": [
      "<class 'pandas.core.frame.DataFrame'>\n",
      "RangeIndex: 470 entries, 0 to 469\n",
      "Columns: 17183 entries, CCLE.Cell.Line.Name to ZZZ3\n",
      "dtypes: float64(17182), object(1)\n",
      "memory usage: 61.6+ MB\n"
     ]
    }
   ],
   "source": [
    "df_CCLE.info()"
   ]
  },
  {
   "cell_type": "code",
   "execution_count": 7,
   "metadata": {},
   "outputs": [
    {
     "data": {
      "text/html": [
       "<div>\n",
       "<style scoped>\n",
       "    .dataframe tbody tr th:only-of-type {\n",
       "        vertical-align: middle;\n",
       "    }\n",
       "\n",
       "    .dataframe tbody tr th {\n",
       "        vertical-align: top;\n",
       "    }\n",
       "\n",
       "    .dataframe thead th {\n",
       "        text-align: right;\n",
       "    }\n",
       "</style>\n",
       "<table border=\"1\" class=\"dataframe\">\n",
       "  <thead>\n",
       "    <tr style=\"text-align: right;\">\n",
       "      <th></th>\n",
       "      <th>CCLE.Cell.Line.Name</th>\n",
       "      <th>IC50</th>\n",
       "      <th>A1BG</th>\n",
       "      <th>A1CF</th>\n",
       "      <th>A2M</th>\n",
       "      <th>A2ML1</th>\n",
       "      <th>A4GALT</th>\n",
       "      <th>A4GNT</th>\n",
       "      <th>AAAS</th>\n",
       "      <th>AACS</th>\n",
       "      <th>...</th>\n",
       "      <th>ZUFSP</th>\n",
       "      <th>ZWILCH</th>\n",
       "      <th>ZWINT</th>\n",
       "      <th>ZXDB</th>\n",
       "      <th>ZXDC</th>\n",
       "      <th>ZYG11A</th>\n",
       "      <th>ZYG11B</th>\n",
       "      <th>ZYX</th>\n",
       "      <th>ZZEF1</th>\n",
       "      <th>ZZZ3</th>\n",
       "    </tr>\n",
       "  </thead>\n",
       "  <tbody>\n",
       "    <tr>\n",
       "      <td>0</td>\n",
       "      <td>697_HAEMATOPOIETIC_AND_LYMPHOID_TISSUE</td>\n",
       "      <td>0.849476</td>\n",
       "      <td>1.169179</td>\n",
       "      <td>-1.028292</td>\n",
       "      <td>0.465891</td>\n",
       "      <td>-0.163033</td>\n",
       "      <td>0.008992</td>\n",
       "      <td>-0.076229</td>\n",
       "      <td>1.611807</td>\n",
       "      <td>0.730032</td>\n",
       "      <td>...</td>\n",
       "      <td>1.112574</td>\n",
       "      <td>1.497387</td>\n",
       "      <td>1.825714</td>\n",
       "      <td>1.018050</td>\n",
       "      <td>1.343089</td>\n",
       "      <td>-0.424430</td>\n",
       "      <td>1.212832</td>\n",
       "      <td>1.426546</td>\n",
       "      <td>1.300771</td>\n",
       "      <td>1.255317</td>\n",
       "    </tr>\n",
       "    <tr>\n",
       "      <td>1</td>\n",
       "      <td>AMO1_HAEMATOPOIETIC_AND_LYMPHOID_TISSUE</td>\n",
       "      <td>0.256447</td>\n",
       "      <td>0.973119</td>\n",
       "      <td>-1.080065</td>\n",
       "      <td>0.080114</td>\n",
       "      <td>-1.080065</td>\n",
       "      <td>0.450694</td>\n",
       "      <td>-1.080065</td>\n",
       "      <td>1.583691</td>\n",
       "      <td>1.084361</td>\n",
       "      <td>...</td>\n",
       "      <td>1.139076</td>\n",
       "      <td>1.349479</td>\n",
       "      <td>1.706555</td>\n",
       "      <td>0.946974</td>\n",
       "      <td>1.130707</td>\n",
       "      <td>1.159030</td>\n",
       "      <td>0.931128</td>\n",
       "      <td>1.200484</td>\n",
       "      <td>1.271493</td>\n",
       "      <td>1.093488</td>\n",
       "    </tr>\n",
       "    <tr>\n",
       "      <td>2</td>\n",
       "      <td>AU565_BREAST</td>\n",
       "      <td>0.183210</td>\n",
       "      <td>0.706415</td>\n",
       "      <td>-0.313506</td>\n",
       "      <td>0.839385</td>\n",
       "      <td>1.037266</td>\n",
       "      <td>0.597347</td>\n",
       "      <td>-1.096185</td>\n",
       "      <td>1.546570</td>\n",
       "      <td>1.253366</td>\n",
       "      <td>...</td>\n",
       "      <td>1.126273</td>\n",
       "      <td>1.377786</td>\n",
       "      <td>1.754884</td>\n",
       "      <td>1.029821</td>\n",
       "      <td>1.168004</td>\n",
       "      <td>-0.362577</td>\n",
       "      <td>1.155447</td>\n",
       "      <td>1.796215</td>\n",
       "      <td>1.221892</td>\n",
       "      <td>1.151136</td>\n",
       "    </tr>\n",
       "    <tr>\n",
       "      <td>3</td>\n",
       "      <td>BT474_BREAST</td>\n",
       "      <td>0.116183</td>\n",
       "      <td>0.415596</td>\n",
       "      <td>0.058635</td>\n",
       "      <td>0.026602</td>\n",
       "      <td>0.850557</td>\n",
       "      <td>0.418443</td>\n",
       "      <td>0.068478</td>\n",
       "      <td>1.614142</td>\n",
       "      <td>1.232776</td>\n",
       "      <td>...</td>\n",
       "      <td>1.423967</td>\n",
       "      <td>1.541735</td>\n",
       "      <td>1.877341</td>\n",
       "      <td>1.334396</td>\n",
       "      <td>1.438847</td>\n",
       "      <td>0.906038</td>\n",
       "      <td>1.288140</td>\n",
       "      <td>1.581832</td>\n",
       "      <td>1.370155</td>\n",
       "      <td>1.354113</td>\n",
       "    </tr>\n",
       "    <tr>\n",
       "      <td>4</td>\n",
       "      <td>CAL27_UPPER_AERODIGESTIVE_TRACT</td>\n",
       "      <td>0.688771</td>\n",
       "      <td>-0.218206</td>\n",
       "      <td>0.198325</td>\n",
       "      <td>0.060658</td>\n",
       "      <td>0.802534</td>\n",
       "      <td>1.290542</td>\n",
       "      <td>-0.963460</td>\n",
       "      <td>1.554015</td>\n",
       "      <td>1.229500</td>\n",
       "      <td>...</td>\n",
       "      <td>1.353865</td>\n",
       "      <td>1.499827</td>\n",
       "      <td>1.710708</td>\n",
       "      <td>1.039307</td>\n",
       "      <td>1.352269</td>\n",
       "      <td>0.477560</td>\n",
       "      <td>1.235963</td>\n",
       "      <td>1.652735</td>\n",
       "      <td>1.327339</td>\n",
       "      <td>1.345483</td>\n",
       "    </tr>\n",
       "  </tbody>\n",
       "</table>\n",
       "<p>5 rows × 17183 columns</p>\n",
       "</div>"
      ],
      "text/plain": [
       "                       CCLE.Cell.Line.Name      IC50      A1BG      A1CF  \\\n",
       "0   697_HAEMATOPOIETIC_AND_LYMPHOID_TISSUE  0.849476  1.169179 -1.028292   \n",
       "1  AMO1_HAEMATOPOIETIC_AND_LYMPHOID_TISSUE  0.256447  0.973119 -1.080065   \n",
       "2                             AU565_BREAST  0.183210  0.706415 -0.313506   \n",
       "3                             BT474_BREAST  0.116183  0.415596  0.058635   \n",
       "4          CAL27_UPPER_AERODIGESTIVE_TRACT  0.688771 -0.218206  0.198325   \n",
       "\n",
       "        A2M     A2ML1    A4GALT     A4GNT      AAAS      AACS  ...     ZUFSP  \\\n",
       "0  0.465891 -0.163033  0.008992 -0.076229  1.611807  0.730032  ...  1.112574   \n",
       "1  0.080114 -1.080065  0.450694 -1.080065  1.583691  1.084361  ...  1.139076   \n",
       "2  0.839385  1.037266  0.597347 -1.096185  1.546570  1.253366  ...  1.126273   \n",
       "3  0.026602  0.850557  0.418443  0.068478  1.614142  1.232776  ...  1.423967   \n",
       "4  0.060658  0.802534  1.290542 -0.963460  1.554015  1.229500  ...  1.353865   \n",
       "\n",
       "     ZWILCH     ZWINT      ZXDB      ZXDC    ZYG11A    ZYG11B       ZYX  \\\n",
       "0  1.497387  1.825714  1.018050  1.343089 -0.424430  1.212832  1.426546   \n",
       "1  1.349479  1.706555  0.946974  1.130707  1.159030  0.931128  1.200484   \n",
       "2  1.377786  1.754884  1.029821  1.168004 -0.362577  1.155447  1.796215   \n",
       "3  1.541735  1.877341  1.334396  1.438847  0.906038  1.288140  1.581832   \n",
       "4  1.499827  1.710708  1.039307  1.352269  0.477560  1.235963  1.652735   \n",
       "\n",
       "      ZZEF1      ZZZ3  \n",
       "0  1.300771  1.255317  \n",
       "1  1.271493  1.093488  \n",
       "2  1.221892  1.151136  \n",
       "3  1.370155  1.354113  \n",
       "4  1.327339  1.345483  \n",
       "\n",
       "[5 rows x 17183 columns]"
      ]
     },
     "execution_count": 7,
     "metadata": {},
     "output_type": "execute_result"
    }
   ],
   "source": [
    "df_CCLE.head()"
   ]
  },
  {
   "cell_type": "markdown",
   "metadata": {},
   "source": [
    "### 1.3 Compare Gene Expression between GDSC & CCLE "
   ]
  },
  {
   "cell_type": "markdown",
   "metadata": {},
   "source": [
    "#### 1.3.1 Verify wheher CCLE's gene expressions  are all in GDSC"
   ]
  },
  {
   "cell_type": "code",
   "execution_count": 8,
   "metadata": {},
   "outputs": [
    {
     "data": {
      "text/plain": [
       "True"
      ]
     },
     "execution_count": 8,
     "metadata": {},
     "output_type": "execute_result"
    }
   ],
   "source": [
    "len(set(df_GDSC.columns[2:]) - set(df_CCLE.columns[2:]))==len(df_GDSC.columns)-len(df_CCLE.columns)"
   ]
  },
  {
   "cell_type": "markdown",
   "metadata": {},
   "source": [
    "## 2. Preprocess"
   ]
  },
  {
   "cell_type": "markdown",
   "metadata": {},
   "source": [
    "### 2.1 Reduce GDSC's columns to be as the same as in CCLE "
   ]
  },
  {
   "cell_type": "code",
   "execution_count": 9,
   "metadata": {},
   "outputs": [],
   "source": [
    "selFeatCols = df_CCLE.columns[2:]\n",
    "\n",
    "def chooseCommonFeatures(datatype):\n",
    "    \n",
    "    labelCol = ['IC50']\n",
    "    \n",
    "    if datatype=='train':\n",
    "        df = df_GDSC\n",
    "    \n",
    "    elif datatype=='test':\n",
    "        df = df_CCLE\n",
    "    \n",
    "    X = df[selFeatCols].values\n",
    "    y = df[labelCol].values.flatten()\n",
    "\n",
    "    if datatype=='train':\n",
    "        X, y = shuffle(X, y, random_state=0)\n",
    "    \n",
    "    print('X_{}.shape'.format(datatype),X.shape)\n",
    "    print('y_{}.shape'.format(datatype),y.shape)\n",
    "    \n",
    "    return X, y"
   ]
  },
  {
   "cell_type": "markdown",
   "metadata": {},
   "source": [
    "### Standardized "
   ]
  },
  {
   "cell_type": "code",
   "execution_count": 10,
   "metadata": {},
   "outputs": [],
   "source": [
    "def standardized(X_train, X_test):\n",
    "    scaler = StandardScaler()\n",
    "    scaler.fit(X_train)\n",
    "    X_train = scaler.transform(X_train)\n",
    "    X_test = scaler.transform(X_test)\n",
    "    return X_train, X_test"
   ]
  },
  {
   "cell_type": "markdown",
   "metadata": {},
   "source": [
    "### Turn label into zero and one"
   ]
  },
  {
   "cell_type": "code",
   "execution_count": 11,
   "metadata": {},
   "outputs": [],
   "source": [
    "def value2zeroOne(array, cutoff=2.0):\n",
    "    return np.array(list(map(lambda x:int(x<cutoff), array)))"
   ]
  },
  {
   "cell_type": "markdown",
   "metadata": {},
   "source": [
    "### Confusion Matrix"
   ]
  },
  {
   "cell_type": "code",
   "execution_count": 12,
   "metadata": {},
   "outputs": [],
   "source": [
    "def outputConfusionMatrix(y_Actual, y_Predicted):\n",
    "    data = {'y_Actual':  y_Actual,\n",
    "            'y_Predicted': y_Predicted}\n",
    "\n",
    "    df = pd.DataFrame(data, columns=['y_Actual','y_Predicted'])\n",
    "    confusionMatrix = pd.crosstab(df['y_Predicted'], df['y_Actual'], rownames=['Predicted'], colnames=['Actual'])\n",
    "    \n",
    "    return confusionMatrix"
   ]
  },
  {
   "cell_type": "code",
   "execution_count": 13,
   "metadata": {},
   "outputs": [],
   "source": [
    "def getResultConfusionMatrix(clf, X, y_zo):\n",
    "    y_pred = clf.predict(X)\n",
    "    print('recall:', recall_score(y_zo, y_pred))\n",
    "    print('precision:', precision_score(y_zo, y_pred))\n",
    "    print('f1:', f1_score(y_zo, y_pred))\n",
    "    return outputConfusionMatrix(y_zo, y_pred)"
   ]
  },
  {
   "cell_type": "markdown",
   "metadata": {},
   "source": [
    "## get X, y"
   ]
  },
  {
   "cell_type": "code",
   "execution_count": 14,
   "metadata": {},
   "outputs": [
    {
     "name": "stdout",
     "output_type": "stream",
     "text": [
      "X_train.shape (396, 17181)\n",
      "y_train.shape (396,)\n",
      "X_test.shape (470, 17181)\n",
      "y_test.shape (470,)\n"
     ]
    }
   ],
   "source": [
    "X_train, y_train = chooseCommonFeatures(datatype='train')\n",
    "X_test, y_test = chooseCommonFeatures(datatype='test')"
   ]
  },
  {
   "cell_type": "markdown",
   "metadata": {},
   "source": [
    "## get binary label of y"
   ]
  },
  {
   "cell_type": "code",
   "execution_count": 15,
   "metadata": {},
   "outputs": [],
   "source": [
    "y_train_zo = value2zeroOne(y_train, cutoff=2.0)\n",
    "y_test_zo = value2zeroOne(y_test, cutoff=2.0)"
   ]
  },
  {
   "cell_type": "markdown",
   "metadata": {},
   "source": [
    "## Over-sampling"
   ]
  },
  {
   "cell_type": "code",
   "execution_count": 16,
   "metadata": {
    "scrolled": true
   },
   "outputs": [
    {
     "name": "stderr",
     "output_type": "stream",
     "text": [
      "2020-06-05 14:45:11,464:INFO:SMOTE: Running sampling via ('SMOTE', \"{'proportion': 1.0, 'n_neighbors': 5, 'n_jobs': 1, 'random_state': 0}\")\n"
     ]
    }
   ],
   "source": [
    "oversampler = sv.SMOTE(random_state=0)\n",
    "\n",
    "X_train_os, y_train_os = oversampler.sample(X_train, y_train_zo)\n",
    "X_train_os, y_train_os = shuffle(X_train_os, y_train_os)"
   ]
  },
  {
   "cell_type": "code",
   "execution_count": 17,
   "metadata": {},
   "outputs": [
    {
     "data": {
      "text/plain": [
       "(742, 17181)"
      ]
     },
     "execution_count": 17,
     "metadata": {},
     "output_type": "execute_result"
    }
   ],
   "source": [
    "X_train_os.shape"
   ]
  },
  {
   "cell_type": "markdown",
   "metadata": {},
   "source": [
    "## Best Method:  ExtraTree + LinearSVC"
   ]
  },
  {
   "cell_type": "code",
   "execution_count": 18,
   "metadata": {},
   "outputs": [],
   "source": [
    "X = X_train_os\n",
    "y = y_train_os\n",
    "\n",
    "X_train_std, X_test_std = standardized(X, X_test)"
   ]
  },
  {
   "cell_type": "code",
   "execution_count": 19,
   "metadata": {},
   "outputs": [
    {
     "name": "stdout",
     "output_type": "stream",
     "text": [
      "X_train_tree.shape (742, 1628)\n"
     ]
    }
   ],
   "source": [
    "etc = ExtraTreesClassifier(n_estimators=50, random_state=0).fit(X_train_std, y) \n",
    "treeFeatureSelector = SelectFromModel(etc, prefit=True)\n",
    "\n",
    "X_train_tree = treeFeatureSelector.transform(X_train_std)\n",
    "x_test_tree = treeFeatureSelector.transform(X_test_std)\n",
    "\n",
    "print('X_train_tree.shape', X_train_tree.shape)"
   ]
  },
  {
   "cell_type": "code",
   "execution_count": 20,
   "metadata": {},
   "outputs": [],
   "source": [
    "def linearSVM(X_train, y_train, X_test, y_test, isLabelBinary=False, parameters={}):\n",
    "    if not isLabelBinary:\n",
    "        y_train_zo = value2zeroOne(y_train, cutoff=2.0)\n",
    "        y_test_zo = value2zeroOne(y_test, cutoff=2.0)\n",
    "    else:\n",
    "        y_train_zo = y_train\n",
    "        y_test_zo = y_test\n",
    "    \n",
    "    clf = LinearSVC(random_state=0)\n",
    "    if parameters:\n",
    "        clf = GridSearchCV(clf, parameters, cv=5).fit(X_train, y_train_zo)\n",
    "    \n",
    "    \n",
    "    print('[train]')\n",
    "    cm_train = getResultConfusionMatrix(clf, X_train, y_train_zo)\n",
    "    \n",
    "    print()\n",
    "    \n",
    "    print('[test]')\n",
    "    cm_test = getResultConfusionMatrix(clf, X_test, y_test_zo)\n",
    "    \n",
    "    return clf, cm_train, cm_test\n",
    "\n"
   ]
  },
  {
   "cell_type": "markdown",
   "metadata": {},
   "source": [
    "## Finetune on regularization parameter and 5-fold cross-validation"
   ]
  },
  {
   "cell_type": "code",
   "execution_count": 21,
   "metadata": {},
   "outputs": [
    {
     "name": "stdout",
     "output_type": "stream",
     "text": [
      "[train]\n",
      "recall: 1.0\n",
      "precision: 1.0\n",
      "f1: 1.0\n",
      "\n",
      "[test]\n",
      "recall: 0.38636363636363635\n",
      "precision: 0.3541666666666667\n",
      "f1: 0.3695652173913044\n"
     ]
    }
   ],
   "source": [
    "parameters = {'C':[0.01, 0.1, 1, 10, 100], 'max_iter':[10000]}\n",
    "\n",
    "clf, cm_train, cm_test = linearSVM(X_train_tree, y, \n",
    "                                         x_test_tree, y_test_zo, \n",
    "                                         isLabelBinary=True, parameters=parameters)"
   ]
  },
  {
   "cell_type": "markdown",
   "metadata": {},
   "source": [
    "### selected parameters"
   ]
  },
  {
   "cell_type": "code",
   "execution_count": 22,
   "metadata": {},
   "outputs": [
    {
     "data": {
      "text/plain": [
       "{'C': 0.1, 'max_iter': 10000}"
      ]
     },
     "execution_count": 22,
     "metadata": {},
     "output_type": "execute_result"
    }
   ],
   "source": [
    "clf.best_params_"
   ]
  },
  {
   "cell_type": "markdown",
   "metadata": {},
   "source": [
    "## Confusion matrix"
   ]
  },
  {
   "cell_type": "code",
   "execution_count": 23,
   "metadata": {},
   "outputs": [
    {
     "data": {
      "text/html": [
       "<div>\n",
       "<style scoped>\n",
       "    .dataframe tbody tr th:only-of-type {\n",
       "        vertical-align: middle;\n",
       "    }\n",
       "\n",
       "    .dataframe tbody tr th {\n",
       "        vertical-align: top;\n",
       "    }\n",
       "\n",
       "    .dataframe thead th {\n",
       "        text-align: right;\n",
       "    }\n",
       "</style>\n",
       "<table border=\"1\" class=\"dataframe\">\n",
       "  <thead>\n",
       "    <tr style=\"text-align: right;\">\n",
       "      <th>Actual</th>\n",
       "      <th>0</th>\n",
       "      <th>1</th>\n",
       "    </tr>\n",
       "    <tr>\n",
       "      <th>Predicted</th>\n",
       "      <th></th>\n",
       "      <th></th>\n",
       "    </tr>\n",
       "  </thead>\n",
       "  <tbody>\n",
       "    <tr>\n",
       "      <td>0</td>\n",
       "      <td>371</td>\n",
       "      <td>0</td>\n",
       "    </tr>\n",
       "    <tr>\n",
       "      <td>1</td>\n",
       "      <td>0</td>\n",
       "      <td>371</td>\n",
       "    </tr>\n",
       "  </tbody>\n",
       "</table>\n",
       "</div>"
      ],
      "text/plain": [
       "Actual       0    1\n",
       "Predicted          \n",
       "0          371    0\n",
       "1            0  371"
      ]
     },
     "execution_count": 23,
     "metadata": {},
     "output_type": "execute_result"
    }
   ],
   "source": [
    "cm_train"
   ]
  },
  {
   "cell_type": "code",
   "execution_count": 24,
   "metadata": {},
   "outputs": [
    {
     "data": {
      "text/html": [
       "<div>\n",
       "<style scoped>\n",
       "    .dataframe tbody tr th:only-of-type {\n",
       "        vertical-align: middle;\n",
       "    }\n",
       "\n",
       "    .dataframe tbody tr th {\n",
       "        vertical-align: top;\n",
       "    }\n",
       "\n",
       "    .dataframe thead th {\n",
       "        text-align: right;\n",
       "    }\n",
       "</style>\n",
       "<table border=\"1\" class=\"dataframe\">\n",
       "  <thead>\n",
       "    <tr style=\"text-align: right;\">\n",
       "      <th>Actual</th>\n",
       "      <th>0</th>\n",
       "      <th>1</th>\n",
       "    </tr>\n",
       "    <tr>\n",
       "      <th>Predicted</th>\n",
       "      <th></th>\n",
       "      <th></th>\n",
       "    </tr>\n",
       "  </thead>\n",
       "  <tbody>\n",
       "    <tr>\n",
       "      <td>0</td>\n",
       "      <td>395</td>\n",
       "      <td>27</td>\n",
       "    </tr>\n",
       "    <tr>\n",
       "      <td>1</td>\n",
       "      <td>31</td>\n",
       "      <td>17</td>\n",
       "    </tr>\n",
       "  </tbody>\n",
       "</table>\n",
       "</div>"
      ],
      "text/plain": [
       "Actual       0   1\n",
       "Predicted         \n",
       "0          395  27\n",
       "1           31  17"
      ]
     },
     "execution_count": 24,
     "metadata": {},
     "output_type": "execute_result"
    }
   ],
   "source": [
    "cm_test"
   ]
  }
 ],
 "metadata": {
  "kernelspec": {
   "display_name": "Python 3",
   "language": "python",
   "name": "python3"
  },
  "language_info": {
   "codemirror_mode": {
    "name": "ipython",
    "version": 3
   },
   "file_extension": ".py",
   "mimetype": "text/x-python",
   "name": "python",
   "nbconvert_exporter": "python",
   "pygments_lexer": "ipython3",
   "version": "3.7.4"
  }
 },
 "nbformat": 4,
 "nbformat_minor": 2
}
